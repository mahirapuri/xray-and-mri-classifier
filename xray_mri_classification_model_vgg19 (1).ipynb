{
  "nbformat": 4,
  "nbformat_minor": 0,
  "metadata": {
    "colab": {
      "provenance": []
    },
    "kernelspec": {
      "name": "python3",
      "display_name": "Python 3"
    },
    "language_info": {
      "name": "python"
    }
  },
  "cells": [
    {
      "cell_type": "code",
      "execution_count": null,
      "metadata": {
        "id": "DPZeRHouKXYl"
      },
      "outputs": [],
      "source": [
        "from tensorflow.keras.layers import Input, Lambda, Dense, Flatten,Dropout\n",
        "from tensorflow.keras.models import Model\n",
        "from tensorflow.keras.applications.vgg19 import VGG19\n",
        "from tensorflow.keras.applications.vgg19 import preprocess_input\n",
        "from tensorflow.keras.preprocessing import image\n",
        "from tensorflow.keras.preprocessing.image import ImageDataGenerator\n",
        "from tensorflow.keras.models import Sequential\n",
        "import numpy as np\n",
        "import pandas as pd\n",
        "import os\n",
        "import cv2\n",
        "import matplotlib.pyplot as plt"
      ]
    },
    {
      "cell_type": "code",
      "source": [
        "test_path=\"/content/Test\"\n",
        "train_path= \"/content/Training\"\n",
        "val_path= \"/content/val\""
      ],
      "metadata": {
        "id": "_OoVoQ8OKaFI"
      },
      "execution_count": null,
      "outputs": []
    },
    {
      "cell_type": "code",
      "source": [
        "# re-size all the images to this\n",
        "IMAGE_SIZE = [224, 224]"
      ],
      "metadata": {
        "id": "cMPC4tkOKdZS"
      },
      "execution_count": null,
      "outputs": []
    },
    {
      "cell_type": "code",
      "source": [],
      "metadata": {
        "id": "9f217SdGgS2I"
      },
      "execution_count": null,
      "outputs": []
    },
    {
      "cell_type": "code",
      "source": [
        "x_train=[]\n",
        "\n",
        "for folder in os.listdir(\"/content/Training\"):\n",
        "    sub_path=train_path+\"/\"+folder\n",
        "    for img in os.listdir(sub_path):\n",
        "        image_path=sub_path+\"/\"+img\n",
        "        img_arr=cv2.imread(image_path)\n",
        "        img_arr=cv2.resize(img_arr,(224,224))\n",
        "        x_train.append(img_arr)"
      ],
      "metadata": {
        "id": "CSJJBtxAKgGK"
      },
      "execution_count": null,
      "outputs": []
    },
    {
      "cell_type": "code",
      "source": [
        "\n",
        "x_val=[]\n",
        "\n",
        "for folder in os.listdir(val_path):\n",
        "    sub_path=val_path+\"/\"+folder\n",
        "    for img in os.listdir(sub_path):\n",
        "        image_path=sub_path+\"/\"+img\n",
        "        img_arr=cv2.imread(image_path)\n",
        "        img_arr=cv2.resize(img_arr,(224,224))\n",
        "        x_val.append(img_arr)"
      ],
      "metadata": {
        "id": "1-2gbaDaLhDN"
      },
      "execution_count": null,
      "outputs": []
    },
    {
      "cell_type": "code",
      "source": [
        "x_test=[]\n",
        "\n",
        "for folder in os.listdir(test_path):\n",
        "    sub_path=test_path+\"/\"+folder\n",
        "    for img in os.listdir(sub_path):\n",
        "        image_path=sub_path+\"/\"+img\n",
        "        img_arr=cv2.imread(image_path)\n",
        "        img_arr=cv2.resize(img_arr,(224,224))\n",
        "        x_test.append(img_arr)"
      ],
      "metadata": {
        "id": "to5xrN3cNke6"
      },
      "execution_count": null,
      "outputs": []
    },
    {
      "cell_type": "code",
      "source": [
        "train_x=np.array(x_train)\n",
        "test_x=np.array(x_test)\n",
        "val_x=np.array(x_val)"
      ],
      "metadata": {
        "id": "MJcc1wOrNpOw"
      },
      "execution_count": null,
      "outputs": []
    },
    {
      "cell_type": "code",
      "source": [
        "train_x.shape,test_x.shape,val_x.shape"
      ],
      "metadata": {
        "colab": {
          "base_uri": "https://localhost:8080/"
        },
        "id": "gPe2KHNUNrx_",
        "outputId": "b44125d4-4088-42ce-9ea9-7025e6fcd292"
      },
      "execution_count": null,
      "outputs": [
        {
          "output_type": "execute_result",
          "data": {
            "text/plain": [
              "((181, 224, 224, 3), (88, 224, 224, 3), (54, 224, 224, 3))"
            ]
          },
          "metadata": {},
          "execution_count": 70
        }
      ]
    },
    {
      "cell_type": "code",
      "source": [
        "train_x=train_x/255.0\n",
        "test_x=test_x/255.0\n",
        "val_x=val_x/255.0"
      ],
      "metadata": {
        "id": "OjJmCMc4NuyH"
      },
      "execution_count": null,
      "outputs": []
    },
    {
      "cell_type": "code",
      "source": [
        "from tensorflow.keras.preprocessing.image import ImageDataGenerator"
      ],
      "metadata": {
        "id": "njGEjhrsNyVK"
      },
      "execution_count": null,
      "outputs": []
    },
    {
      "cell_type": "code",
      "source": [
        "# train_datagen = ImageDataGenerator(rescale = 1./255,\n",
        "#                                    shear_range = 0.2,\n",
        "#                                    zoom_range = 0.2,\n",
        "#                                    horizontal_flip = True)\n",
        "\n",
        "train_datagen = ImageDataGenerator(rescale = 1./255)\n",
        "test_datagen = ImageDataGenerator(rescale = 1./255)\n",
        "val_datagen = ImageDataGenerator(rescale = 1./255)\n",
        "\n",
        "\n",
        "training_set = train_datagen.flow_from_directory(train_path,\n",
        "                                                 target_size = (224, 224),\n",
        "                                                 batch_size = 32,\n",
        "                                                 class_mode = 'sparse')\n",
        "\n",
        "test_set = test_datagen.flow_from_directory(test_path,\n",
        "                                            target_size = (224, 224),\n",
        "                                            batch_size = 32,\n",
        "                                            class_mode = 'sparse')\n",
        "\n",
        "val_set = val_datagen.flow_from_directory(val_path,\n",
        "                                            target_size = (224, 224),\n",
        "                                            batch_size = 32,\n",
        "                                            class_mode = 'sparse')"
      ],
      "metadata": {
        "colab": {
          "base_uri": "https://localhost:8080/"
        },
        "id": "N0OQ_RKkN2FL",
        "outputId": "bc56adcb-2a3c-47f9-c59f-6a0c85acbb27"
      },
      "execution_count": null,
      "outputs": [
        {
          "output_type": "stream",
          "name": "stdout",
          "text": [
            "Found 181 images belonging to 3 classes.\n",
            "Found 88 images belonging to 3 classes.\n",
            "Found 54 images belonging to 3 classes.\n"
          ]
        }
      ]
    },
    {
      "cell_type": "code",
      "source": [
        "training_set.class_indices"
      ],
      "metadata": {
        "colab": {
          "base_uri": "https://localhost:8080/"
        },
        "id": "f3FW55NkN6TX",
        "outputId": "0fb01a52-429c-4cac-97f3-6c4d7b4e911c"
      },
      "execution_count": null,
      "outputs": [
        {
          "output_type": "execute_result",
          "data": {
            "text/plain": [
              "{'.ipynb_checkpoints': 0, 'mri': 1, 'xray': 2}"
            ]
          },
          "metadata": {},
          "execution_count": 74
        }
      ]
    },
    {
      "cell_type": "code",
      "source": [
        "train_y=training_set.classes"
      ],
      "metadata": {
        "id": "5bci-NTMN908"
      },
      "execution_count": null,
      "outputs": []
    },
    {
      "cell_type": "code",
      "source": [
        "test_y=test_set.classes"
      ],
      "metadata": {
        "id": "djtpdQJfOC7-"
      },
      "execution_count": null,
      "outputs": []
    },
    {
      "cell_type": "code",
      "source": [
        "val_y=val_set.classes"
      ],
      "metadata": {
        "id": "pqSQeEuaOGbh"
      },
      "execution_count": null,
      "outputs": []
    },
    {
      "cell_type": "code",
      "source": [
        "train_y.shape,test_y.shape,val_y.shape"
      ],
      "metadata": {
        "colab": {
          "base_uri": "https://localhost:8080/"
        },
        "id": "j7YJl-wDOJH7",
        "outputId": "2de1d8f0-a516-4504-c868-f7fc825f4340"
      },
      "execution_count": null,
      "outputs": [
        {
          "output_type": "execute_result",
          "data": {
            "text/plain": [
              "((181,), (88,), (54,))"
            ]
          },
          "metadata": {},
          "execution_count": 78
        }
      ]
    },
    {
      "cell_type": "code",
      "source": [
        "# add preprocessing layer to the front of VGG\n",
        "vgg = VGG19(input_shape=IMAGE_SIZE + [3], weights='imagenet', include_top=False)"
      ],
      "metadata": {
        "id": "YIrwYYcxOMDK"
      },
      "execution_count": null,
      "outputs": []
    },
    {
      "cell_type": "code",
      "source": [
        "# don't train existing weights\n",
        "for layer in vgg.layers:\n",
        "    layer.trainable = False"
      ],
      "metadata": {
        "id": "gLU_9dUfOPnf"
      },
      "execution_count": null,
      "outputs": []
    },
    {
      "cell_type": "code",
      "source": [
        "# our layers - you can add more if you want\n",
        "x = Flatten()(vgg.output)\n",
        "\n",
        "prediction = Dense(3, activation='softmax')(x)"
      ],
      "metadata": {
        "id": "i3fKRdQNOSGQ"
      },
      "execution_count": null,
      "outputs": []
    },
    {
      "cell_type": "code",
      "source": [
        "# create a model object\n",
        "model = Model(inputs=vgg.input, outputs=prediction)\n",
        "\n",
        "# view the structure of the model\n",
        "model.summary()"
      ],
      "metadata": {
        "colab": {
          "base_uri": "https://localhost:8080/"
        },
        "id": "bT6ID2B_OU3z",
        "outputId": "4bd918b5-236b-413d-8d5c-0d018fe85618"
      },
      "execution_count": null,
      "outputs": [
        {
          "output_type": "stream",
          "name": "stdout",
          "text": [
            "Model: \"model_1\"\n",
            "_________________________________________________________________\n",
            " Layer (type)                Output Shape              Param #   \n",
            "=================================================================\n",
            " input_2 (InputLayer)        [(None, 224, 224, 3)]     0         \n",
            "                                                                 \n",
            " block1_conv1 (Conv2D)       (None, 224, 224, 64)      1792      \n",
            "                                                                 \n",
            " block1_conv2 (Conv2D)       (None, 224, 224, 64)      36928     \n",
            "                                                                 \n",
            " block1_pool (MaxPooling2D)  (None, 112, 112, 64)      0         \n",
            "                                                                 \n",
            " block2_conv1 (Conv2D)       (None, 112, 112, 128)     73856     \n",
            "                                                                 \n",
            " block2_conv2 (Conv2D)       (None, 112, 112, 128)     147584    \n",
            "                                                                 \n",
            " block2_pool (MaxPooling2D)  (None, 56, 56, 128)       0         \n",
            "                                                                 \n",
            " block3_conv1 (Conv2D)       (None, 56, 56, 256)       295168    \n",
            "                                                                 \n",
            " block3_conv2 (Conv2D)       (None, 56, 56, 256)       590080    \n",
            "                                                                 \n",
            " block3_conv3 (Conv2D)       (None, 56, 56, 256)       590080    \n",
            "                                                                 \n",
            " block3_conv4 (Conv2D)       (None, 56, 56, 256)       590080    \n",
            "                                                                 \n",
            " block3_pool (MaxPooling2D)  (None, 28, 28, 256)       0         \n",
            "                                                                 \n",
            " block4_conv1 (Conv2D)       (None, 28, 28, 512)       1180160   \n",
            "                                                                 \n",
            " block4_conv2 (Conv2D)       (None, 28, 28, 512)       2359808   \n",
            "                                                                 \n",
            " block4_conv3 (Conv2D)       (None, 28, 28, 512)       2359808   \n",
            "                                                                 \n",
            " block4_conv4 (Conv2D)       (None, 28, 28, 512)       2359808   \n",
            "                                                                 \n",
            " block4_pool (MaxPooling2D)  (None, 14, 14, 512)       0         \n",
            "                                                                 \n",
            " block5_conv1 (Conv2D)       (None, 14, 14, 512)       2359808   \n",
            "                                                                 \n",
            " block5_conv2 (Conv2D)       (None, 14, 14, 512)       2359808   \n",
            "                                                                 \n",
            " block5_conv3 (Conv2D)       (None, 14, 14, 512)       2359808   \n",
            "                                                                 \n",
            " block5_conv4 (Conv2D)       (None, 14, 14, 512)       2359808   \n",
            "                                                                 \n",
            " block5_pool (MaxPooling2D)  (None, 7, 7, 512)         0         \n",
            "                                                                 \n",
            " flatten_1 (Flatten)         (None, 25088)             0         \n",
            "                                                                 \n",
            " dense_1 (Dense)             (None, 3)                 75267     \n",
            "                                                                 \n",
            "=================================================================\n",
            "Total params: 20,099,651\n",
            "Trainable params: 75,267\n",
            "Non-trainable params: 20,024,384\n",
            "_________________________________________________________________\n"
          ]
        }
      ]
    },
    {
      "cell_type": "code",
      "source": [
        "import tensorflow as tf \n",
        "checkpoint_path = \"training_1/cp.ckpt\"\n",
        "checkpoint_dir = os.path.dirname(checkpoint_path)\n",
        "\n",
        "# Create a callback that saves the model's weights\n",
        "cp_callback = tf.keras.callbacks.ModelCheckpoint(filepath=checkpoint_path,\n",
        "                                                 save_weights_only=True,\n",
        "                                                 verbose=1)\n",
        "\n",
        "# Train the model with the new callback\n",
        "history = model.fit(train_x, \n",
        "          train_y,  \n",
        "          validation_data=(val_x,val_y),\n",
        "          epochs=10,\n",
        "          callbacks=[early_stop],\n",
        "          batch_size=32,shuffle=True\n",
        "          )  # Pass callback to training "
      ],
      "metadata": {
        "colab": {
          "base_uri": "https://localhost:8080/"
        },
        "id": "acJR04oRkrMw",
        "outputId": "0a3502f3-a30c-4056-cbd9-ac5f70edaa83"
      },
      "execution_count": null,
      "outputs": [
        {
          "output_type": "stream",
          "name": "stdout",
          "text": [
            "Epoch 1/10\n",
            "6/6 [==============================] - 150s 26s/step - loss: 0.1568 - accuracy: 0.9669 - val_loss: 0.0585 - val_accuracy: 0.9815\n",
            "Epoch 2/10\n",
            "6/6 [==============================] - 152s 26s/step - loss: 0.0135 - accuracy: 0.9945 - val_loss: 0.0026 - val_accuracy: 1.0000\n",
            "Epoch 3/10\n",
            "6/6 [==============================] - 152s 26s/step - loss: 0.0029 - accuracy: 1.0000 - val_loss: 0.0024 - val_accuracy: 1.0000\n",
            "Epoch 4/10\n",
            "6/6 [==============================] - 149s 26s/step - loss: 0.0025 - accuracy: 1.0000 - val_loss: 0.0012 - val_accuracy: 1.0000\n",
            "Epoch 5/10\n",
            "6/6 [==============================] - 150s 26s/step - loss: 9.5104e-04 - accuracy: 1.0000 - val_loss: 5.4412e-04 - val_accuracy: 1.0000\n",
            "Epoch 6/10\n",
            "6/6 [==============================] - 153s 27s/step - loss: 3.0905e-04 - accuracy: 1.0000 - val_loss: 3.9979e-04 - val_accuracy: 1.0000\n",
            "Epoch 7/10\n",
            "6/6 [==============================] - 151s 26s/step - loss: 1.5386e-04 - accuracy: 1.0000 - val_loss: 3.9260e-04 - val_accuracy: 1.0000\n",
            "Epoch 8/10\n",
            "6/6 [==============================] - 149s 26s/step - loss: 1.2329e-04 - accuracy: 1.0000 - val_loss: 4.2050e-04 - val_accuracy: 1.0000\n",
            "Epoch 9/10\n",
            "6/6 [==============================] - 149s 26s/step - loss: 9.9205e-05 - accuracy: 1.0000 - val_loss: 4.4958e-04 - val_accuracy: 1.0000\n",
            "Epoch 10/10\n",
            "6/6 [==============================] - 151s 26s/step - loss: 8.9792e-05 - accuracy: 1.0000 - val_loss: 4.7017e-04 - val_accuracy: 1.0000\n"
          ]
        }
      ]
    },
    {
      "cell_type": "code",
      "source": [
        "# tell the model what cost and optimization method to use\n",
        "model.compile(\n",
        "  loss='sparse_categorical_crossentropy',\n",
        "  optimizer=\"adam\",\n",
        "  metrics=['accuracy']\n",
        ")"
      ],
      "metadata": {
        "id": "2n76AspvOZAI"
      },
      "execution_count": null,
      "outputs": []
    },
    {
      "cell_type": "code",
      "source": [
        "from tensorflow.keras.callbacks import EarlyStopping\n",
        "early_stop=EarlyStopping(monitor='val_loss',mode='min',verbose=1,patience=5)\n",
        "\n",
        "#Early stopping to avoid overfitting of model"
      ],
      "metadata": {
        "id": "sbOwUOZCOcD_"
      },
      "execution_count": null,
      "outputs": []
    },
    {
      "cell_type": "code",
      "source": [
        "# fit the model\n",
        "history = model.fit(\n",
        "  train_x,\n",
        "  train_y,\n",
        "  validation_data=(val_x,val_y),\n",
        "  epochs=10,\n",
        "  callbacks=[early_stop],\n",
        "  batch_size=32,shuffle=True)"
      ],
      "metadata": {
        "colab": {
          "base_uri": "https://localhost:8080/"
        },
        "id": "GkM8MJ8cOe8H",
        "outputId": "a5f43890-dc33-4df8-ac07-2478ec6a08c1"
      },
      "execution_count": null,
      "outputs": [
        {
          "output_type": "stream",
          "name": "stdout",
          "text": [
            "Epoch 1/10\n",
            "10/10 [==============================] - 181s 18s/step - loss: 0.6708 - accuracy: 0.8000 - val_loss: 0.0426 - val_accuracy: 0.9815\n",
            "Epoch 2/10\n",
            "10/10 [==============================] - 186s 19s/step - loss: 0.0494 - accuracy: 0.9738 - val_loss: 0.1821 - val_accuracy: 0.9259\n",
            "Epoch 3/10\n",
            "10/10 [==============================] - 182s 18s/step - loss: 0.0227 - accuracy: 0.9902 - val_loss: 0.0024 - val_accuracy: 1.0000\n",
            "Epoch 4/10\n",
            "10/10 [==============================] - 184s 19s/step - loss: 5.3651e-04 - accuracy: 1.0000 - val_loss: 2.6026e-04 - val_accuracy: 1.0000\n",
            "Epoch 5/10\n",
            "10/10 [==============================] - 178s 18s/step - loss: 0.0015 - accuracy: 1.0000 - val_loss: 3.7012e-04 - val_accuracy: 1.0000\n",
            "Epoch 6/10\n",
            "10/10 [==============================] - 179s 18s/step - loss: 0.0010 - accuracy: 1.0000 - val_loss: 1.3965e-04 - val_accuracy: 1.0000\n",
            "Epoch 7/10\n",
            "10/10 [==============================] - 180s 18s/step - loss: 1.5341e-04 - accuracy: 1.0000 - val_loss: 1.0016e-04 - val_accuracy: 1.0000\n",
            "Epoch 8/10\n",
            "10/10 [==============================] - 179s 18s/step - loss: 9.9633e-05 - accuracy: 1.0000 - val_loss: 8.9741e-05 - val_accuracy: 1.0000\n",
            "Epoch 9/10\n",
            "10/10 [==============================] - 187s 19s/step - loss: 7.3184e-05 - accuracy: 1.0000 - val_loss: 8.7961e-05 - val_accuracy: 1.0000\n",
            "Epoch 10/10\n",
            "10/10 [==============================] - 188s 19s/step - loss: 6.2026e-05 - accuracy: 1.0000 - val_loss: 8.8562e-05 - val_accuracy: 1.0000\n"
          ]
        }
      ]
    },
    {
      "cell_type": "code",
      "source": [
        "from google.colab import drive\n",
        "drive.mount('/content/gdrive')"
      ],
      "metadata": {
        "colab": {
          "base_uri": "https://localhost:8080/"
        },
        "id": "242OGSXyQ5z-",
        "outputId": "a4a88d8d-4a15-4cac-a5ec-3ae58c49bd83"
      },
      "execution_count": null,
      "outputs": [
        {
          "output_type": "stream",
          "name": "stdout",
          "text": [
            "Drive already mounted at /content/gdrive; to attempt to forcibly remount, call drive.mount(\"/content/gdrive\", force_remount=True).\n"
          ]
        }
      ]
    },
    {
      "cell_type": "code",
      "source": [
        "# loss\n",
        "plt.plot(history.history['loss'], label='train loss')\n",
        "plt.plot(history.history['val_loss'], label='val loss')\n",
        "plt.legend()\n",
        "\n",
        "plt.savefig('vgg-loss-rps-1.png')\n",
        "plt.show()"
      ],
      "metadata": {
        "colab": {
          "base_uri": "https://localhost:8080/",
          "height": 265
        },
        "id": "QZTX6Q8FVmWT",
        "outputId": "80028f95-eddd-4039-8585-eded39e19827"
      },
      "execution_count": null,
      "outputs": [
        {
          "output_type": "display_data",
          "data": {
            "text/plain": [
              "<Figure size 432x288 with 1 Axes>"
            ],
            "image/png": "[encoded data removed]"
          },
          "metadata": {
            "needs_background": "light"
          }
        }
      ]
    },
    {
      "cell_type": "code",
      "source": [
        "# accuracies\n",
        "plt.plot(history.history['accuracy'], label='train acc')\n",
        "plt.plot(history.history['val_accuracy'], label='val acc')\n",
        "plt.legend()\n",
        "\n",
        "plt.savefig('vgg-acc-rps-1.png')\n",
        "plt.show()"
      ],
      "metadata": {
        "colab": {
          "base_uri": "https://localhost:8080/",
          "height": 265
        },
        "id": "Ui9ZB3kuVqSW",
        "outputId": "78e9b82e-b881-48d8-9326-1eb2ed2401ab"
      },
      "execution_count": null,
      "outputs": [
        {
          "output_type": "display_data",
          "data": {
            "text/plain": [
              "<Figure size 432x288 with 1 Axes>"
            ],
            "image/png": "[encoded data removed]"
          },
          "metadata": {
            "needs_background": "light"
          }
        }
      ]
    },
    {
      "cell_type": "code",
      "source": [
        "model.evaluate(test_x,test_y,batch_size=32)"
      ],
      "metadata": {
        "colab": {
          "base_uri": "https://localhost:8080/"
        },
        "id": "uSw6smDeVtLh",
        "outputId": "b6295649-03d0-4675-d358-61ec360365ca"
      },
      "execution_count": null,
      "outputs": [
        {
          "output_type": "stream",
          "name": "stdout",
          "text": [
            "3/3 [==============================] - 55s 18s/step - loss: 7.2951e-05 - accuracy: 1.0000\n"
          ]
        },
        {
          "output_type": "execute_result",
          "data": {
            "text/plain": [
              "[7.295115938177332e-05, 1.0]"
            ]
          },
          "metadata": {},
          "execution_count": 92
        }
      ]
    },
    {
      "cell_type": "code",
      "source": [
        "from sklearn.metrics import accuracy_score,classification_report,confusion_matrix\n",
        "import numpy as np"
      ],
      "metadata": {
        "id": "--5p7V7GVvd3"
      },
      "execution_count": null,
      "outputs": []
    },
    {
      "cell_type": "code",
      "source": [
        "y_pred=model.predict(test_x)\n",
        "y_pred=np.argmax(y_pred,axis=1)"
      ],
      "metadata": {
        "id": "sIQRllVtVyU-"
      },
      "execution_count": null,
      "outputs": []
    },
    {
      "cell_type": "code",
      "source": [
        "accuracy_score(y_pred,test_y)"
      ],
      "metadata": {
        "colab": {
          "base_uri": "https://localhost:8080/",
          "height": 166
        },
        "id": "26M7uRSBV0ne",
        "outputId": "b7ee9800-aaa7-43d5-daba-1f2ea00d2c08"
      },
      "execution_count": null,
      "outputs": [
        {
          "output_type": "error",
          "ename": "NameError",
          "evalue": "ignored",
          "traceback": [
            "\u001b[0;31m---------------------------------------------------------------------------\u001b[0m",
            "\u001b[0;31mNameError\u001b[0m                                 Traceback (most recent call last)",
            "\u001b[0;32m<ipython-input-1-9075957409e5>\u001b[0m in \u001b[0;36m<module>\u001b[0;34m\u001b[0m\n\u001b[0;32m----> 1\u001b[0;31m \u001b[0maccuracy_score\u001b[0m\u001b[0;34m(\u001b[0m\u001b[0my_pred\u001b[0m\u001b[0;34m,\u001b[0m\u001b[0mtest_y\u001b[0m\u001b[0;34m)\u001b[0m\u001b[0;34m\u001b[0m\u001b[0;34m\u001b[0m\u001b[0m\n\u001b[0m",
            "\u001b[0;31mNameError\u001b[0m: name 'accuracy_score' is not defined"
          ]
        }
      ]
    },
    {
      "cell_type": "code",
      "source": [
        "print(classification_report(y_pred,test_y))"
      ],
      "metadata": {
        "colab": {
          "base_uri": "https://localhost:8080/"
        },
        "id": "PfDgej8jV3EP",
        "outputId": "c046caba-8524-4610-d4d3-8af741d9e1ef"
      },
      "execution_count": null,
      "outputs": [
        {
          "output_type": "stream",
          "name": "stdout",
          "text": [
            "              precision    recall  f1-score   support\n",
            "\n",
            "           1       1.00      1.00      1.00        17\n",
            "           2       1.00      1.00      1.00        71\n",
            "\n",
            "    accuracy                           1.00        88\n",
            "   macro avg       1.00      1.00      1.00        88\n",
            "weighted avg       1.00      1.00      1.00        88\n",
            "\n"
          ]
        }
      ]
    },
    {
      "cell_type": "code",
      "source": [
        "confusion_matrix(y_pred,test_y)"
      ],
      "metadata": {
        "colab": {
          "base_uri": "https://localhost:8080/"
        },
        "id": "dv4S79uTV5E9",
        "outputId": "6bbf935c-8b55-4c87-d1e3-6e349750d0db"
      },
      "execution_count": null,
      "outputs": [
        {
          "output_type": "execute_result",
          "data": {
            "text/plain": [
              "array([[17,  0],\n",
              "       [ 0, 71]])"
            ]
          },
          "metadata": {},
          "execution_count": 97
        }
      ]
    },
    {
      "cell_type": "code",
      "source": [
        "path=\"ADD YOUR OWN FINAL TESTING FILE PATH HERE\"\n",
        "for img in os.listdir(path):\n",
        "    img=image.load_img(path+\"/\"+img,target_size=(224,224))\n",
        "    plt.imshow(img)\n",
        "    plt.show()\n",
        "    x=image.img_to_array(img)\n",
        "    x=np.expand_dims(x,axis=0)\n",
        "    images=np.vstack([x])\n",
        "    pred=model.predict(images,batch_size=1) \n",
        "    if pred[0][1]>0.5:\n",
        "        print(\"mri\")\n",
        "    elif pred[0][2]>0.5:\n",
        "        print(\"xray\")\n",
        "    else:\n",
        "        print(\"Unknown\")"
      ],
      "metadata": {
        "colab": {
          "base_uri": "https://localhost:8080/",
          "height": 235
        },
        "id": "yKVwjb36WMeS",
        "outputId": "f3d999d7-31dc-4b9c-cda5-294abfd9f94c"
      },
      "execution_count": 1,
      "outputs": [
        {
          "output_type": "error",
          "ename": "NameError",
          "evalue": "ignored",
          "traceback": [
            "\u001b[0;31m---------------------------------------------------------------------------\u001b[0m",
            "\u001b[0;31mNameError\u001b[0m                                 Traceback (most recent call last)",
            "\u001b[0;32m<ipython-input-1-03c2de278e61>\u001b[0m in \u001b[0;36m<module>\u001b[0;34m\u001b[0m\n\u001b[1;32m      1\u001b[0m \u001b[0mpath\u001b[0m\u001b[0;34m=\u001b[0m\u001b[0;34m\"ADD YOUR OWN FINAL TESTING FILE PATH HERE\"\u001b[0m\u001b[0;34m\u001b[0m\u001b[0;34m\u001b[0m\u001b[0m\n\u001b[0;32m----> 2\u001b[0;31m \u001b[0;32mfor\u001b[0m \u001b[0mimg\u001b[0m \u001b[0;32min\u001b[0m \u001b[0mos\u001b[0m\u001b[0;34m.\u001b[0m\u001b[0mlistdir\u001b[0m\u001b[0;34m(\u001b[0m\u001b[0mpath\u001b[0m\u001b[0;34m)\u001b[0m\u001b[0;34m:\u001b[0m\u001b[0;34m\u001b[0m\u001b[0;34m\u001b[0m\u001b[0m\n\u001b[0m\u001b[1;32m      3\u001b[0m     \u001b[0mimg\u001b[0m\u001b[0;34m=\u001b[0m\u001b[0mimage\u001b[0m\u001b[0;34m.\u001b[0m\u001b[0mload_img\u001b[0m\u001b[0;34m(\u001b[0m\u001b[0mpath\u001b[0m\u001b[0;34m+\u001b[0m\u001b[0;34m\"/\"\u001b[0m\u001b[0;34m+\u001b[0m\u001b[0mimg\u001b[0m\u001b[0;34m,\u001b[0m\u001b[0mtarget_size\u001b[0m\u001b[0;34m=\u001b[0m\u001b[0;34m(\u001b[0m\u001b[0;36m224\u001b[0m\u001b[0;34m,\u001b[0m\u001b[0;36m224\u001b[0m\u001b[0;34m)\u001b[0m\u001b[0;34m)\u001b[0m\u001b[0;34m\u001b[0m\u001b[0;34m\u001b[0m\u001b[0m\n\u001b[1;32m      4\u001b[0m     \u001b[0mplt\u001b[0m\u001b[0;34m.\u001b[0m\u001b[0mimshow\u001b[0m\u001b[0;34m(\u001b[0m\u001b[0mimg\u001b[0m\u001b[0;34m)\u001b[0m\u001b[0;34m\u001b[0m\u001b[0;34m\u001b[0m\u001b[0m\n\u001b[1;32m      5\u001b[0m     \u001b[0mplt\u001b[0m\u001b[0;34m.\u001b[0m\u001b[0mshow\u001b[0m\u001b[0;34m(\u001b[0m\u001b[0;34m)\u001b[0m\u001b[0;34m\u001b[0m\u001b[0;34m\u001b[0m\u001b[0m\n",
            "\u001b[0;31mNameError\u001b[0m: name 'os' is not defined"
          ]
        }
      ]
    },
    {
      "cell_type": "code",
      "source": [
        "# Include the epoch in the file name (uses `str.format`)\n",
        "checkpoint_path = \"training_2/cp-{epoch:10/10}.ckpt\"\n",
        "checkpoint_dir = os.path.dirname(checkpoint_path)\n",
        "\n",
        "batch_size = 32\n"
      ],
      "metadata": {
        "id": "bnXnEd8hXwn7"
      },
      "execution_count": null,
      "outputs": []
    },
    {
      "cell_type": "code",
      "source": [
        "\n",
        "import tensorflow as tf\n",
        "# Create a callback that saves the model's weights every 5 epochs\n",
        "cp_callback = tf.keras.callbacks.ModelCheckpoint(\n",
        "    filepath=checkpoint_path, \n",
        "    verbose=1, \n",
        "    save_weights_only=True,\n",
        "    save_freq=5*batch_size)"
      ],
      "metadata": {
        "id": "wRn5b5BTZIz2"
      },
      "execution_count": null,
      "outputs": []
    },
    {
      "cell_type": "code",
      "source": [
        "model.save(\"vgg-XRAY-final.h5\")"
      ],
      "metadata": {
        "id": "sO0XJrbaZfJL"
      },
      "execution_count": null,
      "outputs": []
    },
    {
      "cell_type": "code",
      "source": [
        "import keras\n",
        "import keras.utils\n",
        "from keras import utils as np_utils\n",
        "from keras.models import load_model\n",
        "new_model=keras.models.load_model(\"vgg-XRAY-final.h5\")\n",
        "new_model.summary()"
      ],
      "metadata": {
        "id": "ukpOUYwZcv-v",
        "colab": {
          "base_uri": "https://localhost:8080/"
        },
        "outputId": "312cc965-89eb-4452-9171-790a3e864214"
      },
      "execution_count": null,
      "outputs": [
        {
          "output_type": "stream",
          "name": "stdout",
          "text": [
            "Model: \"model\"\n",
            "_________________________________________________________________\n",
            " Layer (type)                Output Shape              Param #   \n",
            "=================================================================\n",
            " input_1 (InputLayer)        [(None, 224, 224, 3)]     0         \n",
            "                                                                 \n",
            " block1_conv1 (Conv2D)       (None, 224, 224, 64)      1792      \n",
            "                                                                 \n",
            " block1_conv2 (Conv2D)       (None, 224, 224, 64)      36928     \n",
            "                                                                 \n",
            " block1_pool (MaxPooling2D)  (None, 112, 112, 64)      0         \n",
            "                                                                 \n",
            " block2_conv1 (Conv2D)       (None, 112, 112, 128)     73856     \n",
            "                                                                 \n",
            " block2_conv2 (Conv2D)       (None, 112, 112, 128)     147584    \n",
            "                                                                 \n",
            " block2_pool (MaxPooling2D)  (None, 56, 56, 128)       0         \n",
            "                                                                 \n",
            " block3_conv1 (Conv2D)       (None, 56, 56, 256)       295168    \n",
            "                                                                 \n",
            " block3_conv2 (Conv2D)       (None, 56, 56, 256)       590080    \n",
            "                                                                 \n",
            " block3_conv3 (Conv2D)       (None, 56, 56, 256)       590080    \n",
            "                                                                 \n",
            " block3_conv4 (Conv2D)       (None, 56, 56, 256)       590080    \n",
            "                                                                 \n",
            " block3_pool (MaxPooling2D)  (None, 28, 28, 256)       0         \n",
            "                                                                 \n",
            " block4_conv1 (Conv2D)       (None, 28, 28, 512)       1180160   \n",
            "                                                                 \n",
            " block4_conv2 (Conv2D)       (None, 28, 28, 512)       2359808   \n",
            "                                                                 \n",
            " block4_conv3 (Conv2D)       (None, 28, 28, 512)       2359808   \n",
            "                                                                 \n",
            " block4_conv4 (Conv2D)       (None, 28, 28, 512)       2359808   \n",
            "                                                                 \n",
            " block4_pool (MaxPooling2D)  (None, 14, 14, 512)       0         \n",
            "                                                                 \n",
            " block5_conv1 (Conv2D)       (None, 14, 14, 512)       2359808   \n",
            "                                                                 \n",
            " block5_conv2 (Conv2D)       (None, 14, 14, 512)       2359808   \n",
            "                                                                 \n",
            " block5_conv3 (Conv2D)       (None, 14, 14, 512)       2359808   \n",
            "                                                                 \n",
            " block5_conv4 (Conv2D)       (None, 14, 14, 512)       2359808   \n",
            "                                                                 \n",
            " block5_pool (MaxPooling2D)  (None, 7, 7, 512)         0         \n",
            "                                                                 \n",
            " flatten (Flatten)           (None, 25088)             0         \n",
            "                                                                 \n",
            " dense (Dense)               (None, 3)                 75267     \n",
            "                                                                 \n",
            "=================================================================\n",
            "Total params: 20,099,651\n",
            "Trainable params: 75,267\n",
            "Non-trainable params: 20,024,384\n",
            "_________________________________________________________________\n"
          ]
        }
      ]
    },
    {
      "cell_type": "code",
      "source": [
        "from google.colab import drive\n",
        "drive.mount('/content/gdrive')"
      ],
      "metadata": {
        "colab": {
          "base_uri": "https://localhost:8080/"
        },
        "id": "tD-T7J2K1xoB",
        "outputId": "e4d3643e-648c-4fa1-adff-598b3cb8ba22"
      },
      "execution_count": null,
      "outputs": [
        {
          "output_type": "stream",
          "name": "stdout",
          "text": [
            "Drive already mounted at /content/gdrive; to attempt to forcibly remount, call drive.mount(\"/content/gdrive\", force_remount=True).\n"
          ]
        }
      ]
    },
    {
      "cell_type": "code",
      "source": [
        "from tensorflow.keras.models import load_model\n",
        "model.save(\"/content/gdrive/MyDrive/vgg-XRAY-final.h5\")\n"
      ],
      "metadata": {
        "id": "5JRTc8m41_6z"
      },
      "execution_count": null,
      "outputs": []
    }
  ]
}